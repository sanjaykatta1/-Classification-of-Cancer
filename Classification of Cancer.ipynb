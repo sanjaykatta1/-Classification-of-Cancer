{
  "nbformat": 4,
  "nbformat_minor": 0,
  "metadata": {
    "colab": {
      "name": "final_ml.ipynb",
      "provenance": []
    },
    "kernelspec": {
      "name": "python3",
      "display_name": "Python 3"
    },
    "language_info": {
      "name": "python"
    }
  },
  "cells": [
    {
      "cell_type": "code",
      "metadata": {
        "colab": {
          "resources": {
            "http://localhost:8080/nbextensions/google.colab/files.js": {
              "data": "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",
              "ok": true,
              "headers": [
                [
                  "content-type",
                  "application/javascript"
                ]
              ],
              "status": 200,
              "status_text": ""
            }
          },
          "base_uri": "https://localhost:8080/",
          "height": 72
        },
        "id": "DDhRC5E5GAa4",
        "outputId": "d815b0f3-920c-449e-dfb5-592c3152d47f"
      },
      "source": [
        "# loading username and keys from kaggle\n",
        "import os\n",
        "from google.colab import files\n",
        "uploaded = files.upload()\n",
        "\n",
        "import json\n",
        "with open(\"kaggle.json\") as f:\n",
        "    keys = json.load(f)\n",
        "os.environ['KAGGLE_USERNAME'] = keys[\"username\"] \n",
        "os.environ['KAGGLE_KEY'] = keys[\"key\"] "
      ],
      "execution_count": null,
      "outputs": [
        {
          "output_type": "display_data",
          "data": {
            "text/html": [
              "\n",
              "     <input type=\"file\" id=\"files-a71bd35c-4d33-45b2-a7bb-093245a87b44\" name=\"files[]\" multiple disabled\n",
              "        style=\"border:none\" />\n",
              "     <output id=\"result-a71bd35c-4d33-45b2-a7bb-093245a87b44\">\n",
              "      Upload widget is only available when the cell has been executed in the\n",
              "      current browser session. Please rerun this cell to enable.\n",
              "      </output>\n",
              "      <script src=\"/nbextensions/google.colab/files.js\"></script> "
            ],
            "text/plain": [
              "<IPython.core.display.HTML object>"
            ]
          },
          "metadata": {
            "tags": []
          }
        },
        {
          "output_type": "stream",
          "text": [
            "Saving kaggle.json to kaggle.json\n"
          ],
          "name": "stdout"
        }
      ]
    },
    {
      "cell_type": "code",
      "metadata": {
        "id": "Jex9g3s1HmFc"
      },
      "source": [
        "# Importing the libraries\n",
        "import numpy as np\n",
        "np.random.seed(0)\n",
        "from tensorflow.random import set_seed\n",
        "set_seed(0)\n",
        "\n",
        "import pandas as pd\n",
        "from tensorflow import keras\n",
        "from sklearn.preprocessing import StandardScaler\n",
        "from sklearn.decomposition import PCA\n",
        "from tensorflow.keras import layers\n",
        "from sklearn.metrics import accuracy_score, confusion_matrix\n",
        "import matplotlib.pyplot as plt\n",
        "import seaborn as sns\n",
        "from mpl_toolkits.mplot3d import Axes3D\n",
        "from sklearn.model_selection import GridSearchCV, cross_val_score\n",
        "from sklearn.metrics import accuracy_score, confusion_matrix\n",
        "from sklearn.cluster import KMeans\n",
        "from sklearn.svm import SVC\n",
        "from sklearn.linear_model import LogisticRegression\n",
        "from sklearn.naive_bayes import GaussianNB\n",
        "from sklearn.ensemble import RandomForestClassifier\n",
        "import xgboost as xgb\n",
        "from sklearn.metrics import mean_squared_error\n",
        "from sklearn.metrics import mean_absolute_error\n",
        "from math import sqrt\n",
        "import warnings\n",
        "warnings.filterwarnings('ignore')"
      ],
      "execution_count": null,
      "outputs": []
    },
    {
      "cell_type": "code",
      "metadata": {
        "colab": {
          "base_uri": "https://localhost:8080/"
        },
        "id": "yudwmcoFGyel",
        "outputId": "1b810b12-7d06-4362-9923-408dd6964e7b"
      },
      "source": [
        "!kaggle datasets download -d crawford/gene-expression\n",
        "!unzip gene-expression.zip"
      ],
      "execution_count": null,
      "outputs": [
        {
          "output_type": "stream",
          "text": [
            "Downloading gene-expression.zip to /content\n",
            "\r  0% 0.00/1.41M [00:00<?, ?B/s]\n",
            "\r100% 1.41M/1.41M [00:00<00:00, 47.0MB/s]\n",
            "Archive:  gene-expression.zip\n",
            "  inflating: actual.csv              \n",
            "  inflating: data_set_ALL_AML_independent.csv  \n",
            "  inflating: data_set_ALL_AML_train.csv  \n"
          ],
          "name": "stdout"
        }
      ]
    },
    {
      "cell_type": "code",
      "metadata": {
        "colab": {
          "base_uri": "https://localhost:8080/",
          "height": 204
        },
        "id": "TZY9EJtqijiZ",
        "outputId": "57c0eee6-3288-492b-8f65-a1436a3f761c"
      },
      "source": [
        "# Loading the data\n",
        "actual_df = pd.read_csv('actual.csv')\n",
        "actual_df.head()"
      ],
      "execution_count": null,
      "outputs": [
        {
          "output_type": "execute_result",
          "data": {
            "text/html": [
              "<div>\n",
              "<style scoped>\n",
              "    .dataframe tbody tr th:only-of-type {\n",
              "        vertical-align: middle;\n",
              "    }\n",
              "\n",
              "    .dataframe tbody tr th {\n",
              "        vertical-align: top;\n",
              "    }\n",
              "\n",
              "    .dataframe thead th {\n",
              "        text-align: right;\n",
              "    }\n",
              "</style>\n",
              "<table border=\"1\" class=\"dataframe\">\n",
              "  <thead>\n",
              "    <tr style=\"text-align: right;\">\n",
              "      <th></th>\n",
              "      <th>patient</th>\n",
              "      <th>cancer</th>\n",
              "    </tr>\n",
              "  </thead>\n",
              "  <tbody>\n",
              "    <tr>\n",
              "      <th>0</th>\n",
              "      <td>1</td>\n",
              "      <td>ALL</td>\n",
              "    </tr>\n",
              "    <tr>\n",
              "      <th>1</th>\n",
              "      <td>2</td>\n",
              "      <td>ALL</td>\n",
              "    </tr>\n",
              "    <tr>\n",
              "      <th>2</th>\n",
              "      <td>3</td>\n",
              "      <td>ALL</td>\n",
              "    </tr>\n",
              "    <tr>\n",
              "      <th>3</th>\n",
              "      <td>4</td>\n",
              "      <td>ALL</td>\n",
              "    </tr>\n",
              "    <tr>\n",
              "      <th>4</th>\n",
              "      <td>5</td>\n",
              "      <td>ALL</td>\n",
              "    </tr>\n",
              "  </tbody>\n",
              "</table>\n",
              "</div>"
            ],
            "text/plain": [
              "   patient cancer\n",
              "0        1    ALL\n",
              "1        2    ALL\n",
              "2        3    ALL\n",
              "3        4    ALL\n",
              "4        5    ALL"
            ]
          },
          "metadata": {
            "tags": []
          },
          "execution_count": 6
        }
      ]
    },
    {
      "cell_type": "code",
      "metadata": {
        "id": "GoxCuY_hiuyN"
      },
      "source": [
        "y = actual_df.replace({'ALL':0, 'AML':1})\n",
        "labels = ['ALL', 'AML']"
      ],
      "execution_count": null,
      "outputs": []
    },
    {
      "cell_type": "code",
      "metadata": {
        "id": "dfadAQDKHC1n"
      },
      "source": [
        "# Loading the data\n",
        "train_data = pd.read_csv('data_set_ALL_AML_train.csv')\n",
        "test_data  = pd.read_csv('data_set_ALL_AML_independent.csv')"
      ],
      "execution_count": null,
      "outputs": []
    },
    {
      "cell_type": "code",
      "metadata": {
        "id": "bv1-4GAcUjda",
        "colab": {
          "base_uri": "https://localhost:8080/"
        },
        "outputId": "9b163150-a040-4d62-bdc6-ae541a7e0ee4"
      },
      "source": [
        "train_data.columns"
      ],
      "execution_count": null,
      "outputs": [
        {
          "output_type": "execute_result",
          "data": {
            "text/plain": [
              "Index(['Gene Description', 'Gene Accession Number', '1', 'call', '2', 'call.1',\n",
              "       '3', 'call.2', '4', 'call.3', '5', 'call.4', '6', 'call.5', '7',\n",
              "       'call.6', '8', 'call.7', '9', 'call.8', '10', 'call.9', '11', 'call.10',\n",
              "       '12', 'call.11', '13', 'call.12', '14', 'call.13', '15', 'call.14',\n",
              "       '16', 'call.15', '17', 'call.16', '18', 'call.17', '19', 'call.18',\n",
              "       '20', 'call.19', '21', 'call.20', '22', 'call.21', '23', 'call.22',\n",
              "       '24', 'call.23', '25', 'call.24', '26', 'call.25', '27', 'call.26',\n",
              "       '34', 'call.27', '35', 'call.28', '36', 'call.29', '37', 'call.30',\n",
              "       '38', 'call.31', '28', 'call.32', '29', 'call.33', '30', 'call.34',\n",
              "       '31', 'call.35', '32', 'call.36', '33', 'call.37'],\n",
              "      dtype='object')"
            ]
          },
          "metadata": {
            "tags": []
          },
          "execution_count": 9
        }
      ]
    },
    {
      "cell_type": "markdown",
      "metadata": {
        "id": "DmACnk7o00tp"
      },
      "source": [
        "####Preprocessing of the data"
      ]
    },
    {
      "cell_type": "code",
      "metadata": {
        "id": "PqA8SI23PARE"
      },
      "source": [
        "# dropping call columns and transposing\n",
        "def remove_call(df):\n",
        "  for i in df.columns:\n",
        "    if 'call' in i:\n",
        "      df = df.drop(columns=[i])\n",
        "    if 'Gene' in i:\n",
        "      df = df.drop(columns=[i])\n",
        "  return df.T"
      ],
      "execution_count": null,
      "outputs": []
    },
    {
      "cell_type": "code",
      "metadata": {
        "id": "phDdh-vcQdy0"
      },
      "source": [
        "train_data = remove_call(train_data)\n",
        "test_data = remove_call(test_data)"
      ],
      "execution_count": null,
      "outputs": []
    },
    {
      "cell_type": "code",
      "metadata": {
        "id": "BdIJjF8vhcD_"
      },
      "source": [
        "# sorting the index\n",
        "test_data.index = test_data.index.astype(int)\n",
        "test_data.sort_index(inplace=True)"
      ],
      "execution_count": null,
      "outputs": []
    },
    {
      "cell_type": "code",
      "metadata": {
        "id": "iWzHqJ1riarY"
      },
      "source": [
        "# dividing train an test data\n",
        "y_train = y[y.patient <= 38].reset_index(drop=True)\n",
        "y_test = y[y.patient > 38].reset_index(drop=True)"
      ],
      "execution_count": null,
      "outputs": []
    },
    {
      "cell_type": "markdown",
      "metadata": {
        "id": "Hs_1dyGZ1Cct"
      },
      "source": [
        "#### standardization of data "
      ]
    },
    {
      "cell_type": "code",
      "metadata": {
        "id": "DZy8Csffi-rA"
      },
      "source": [
        "# Standardizing Features\n",
        "scaler = StandardScaler()\n",
        "train_scaled = scaler.fit_transform(train_data)\n",
        "test_scaled = scaler.transform(test_data)"
      ],
      "execution_count": null,
      "outputs": []
    },
    {
      "cell_type": "code",
      "metadata": {
        "colab": {
          "base_uri": "https://localhost:8080/",
          "height": 302
        },
        "id": "u-azvht1jXwp",
        "outputId": "ae34617f-e29e-45ba-a957-b4baea5a9f14"
      },
      "source": [
        "# Range of original Data\n",
        "sns.distplot(np.concatenate(train_data.values)).set_title('Original Data',fontsize=15)\n",
        "plt.tight_layout\n",
        "plt.xlabel('Range',fontsize=15)\n",
        "plt.ylabel('Density',fontsize=15)\n",
        "plt.show()"
      ],
      "execution_count": null,
      "outputs": [
        {
          "output_type": "display_data",
          "data": {
            "image/png": "[encoded data removed]",
            "text/plain": [
              "<Figure size 432x288 with 1 Axes>"
            ]
          },
          "metadata": {
            "tags": [],
            "needs_background": "light"
          }
        }
      ]
    },
    {
      "cell_type": "code",
      "metadata": {
        "colab": {
          "base_uri": "https://localhost:8080/",
          "height": 302
        },
        "id": "0LmHr60cGkNQ",
        "outputId": "9f057919-7594-4a3a-d5e1-01914677389b"
      },
      "source": [
        "# Range of Scaled  Data\n",
        "sns.distplot(np.concatenate(train_scaled)).set_title('Scaled Data',fontsize=15)\n",
        "plt.tight_layout\n",
        "plt.xlabel('Range',fontsize=15)\n",
        "plt.ylabel('Density',fontsize=15)\n",
        "plt.show()"
      ],
      "execution_count": null,
      "outputs": [
        {
          "output_type": "display_data",
          "data": {
            "image/png": "[encoded data removed]",
            "text/plain": [
              "<Figure size 432x288 with 1 Axes>"
            ]
          },
          "metadata": {
            "tags": [],
            "needs_background": "light"
          }
        }
      ]
    },
    {
      "cell_type": "markdown",
      "metadata": {
        "id": "ZrcEJm2t1N00"
      },
      "source": [
        "#### Principal component analysis"
      ]
    },
    {
      "cell_type": "code",
      "metadata": {
        "colab": {
          "base_uri": "https://localhost:8080/"
        },
        "id": "I5nS7nBBjiKI",
        "outputId": "bf992818-be3e-41c0-8f34-bc989749bc02"
      },
      "source": [
        "# taking 95 percent  variance in data\n",
        "pca = PCA(n_components = 0.95)\n",
        "train_pca = pca.fit_transform(train_scaled)\n",
        "test_pca = pca.transform(test_scaled)\n",
        "print(train_pca.shape)\n",
        "print(test_pca.shape)"
      ],
      "execution_count": null,
      "outputs": [
        {
          "output_type": "stream",
          "text": [
            "(38, 32)\n",
            "(34, 32)\n"
          ],
          "name": "stdout"
        }
      ]
    },
    {
      "cell_type": "markdown",
      "metadata": {
        "id": "XAEHnpB91W5S"
      },
      "source": [
        "#### K-Means Clustering"
      ]
    },
    {
      "cell_type": "code",
      "metadata": {
        "colab": {
          "base_uri": "https://localhost:8080/",
          "height": 353
        },
        "id": "l2qyrKYxkfZ6",
        "outputId": "2bfcb60f-a132-4122-f2be-2fc8d67ef47b"
      },
      "source": [
        "# performing  K-Means Clustering for two clusters \n",
        "\n",
        "kmeans = KMeans(n_clusters=2, random_state=0).fit(train_pca)\n",
        "km_pred = kmeans.predict(test_pca)\n",
        "\n",
        "print('K-means accuracy:', round(accuracy_score(y_test.iloc[:,1], km_pred), 3))\n",
        "print('Root Mean squared error',sqrt(mean_squared_error(y_test.iloc[:,1], km_pred,squared=False)))\n",
        "print('Mean absolute error',mean_absolute_error(y_test.iloc[:,1], km_pred))\n",
        "cm_km = confusion_matrix(y_test.iloc[:,1], km_pred)\n",
        "\n",
        "ax = plt.subplot()\n",
        "sns.heatmap(cm_km, annot=True, ax = ax, fmt='g', cmap='Reds') \n",
        "\n",
        "ax.set_xlabel('Predicted labels',fontsize=16)\n",
        "ax.set_ylabel('True labels',fontsize=16) \n",
        "ax.set_title('K-means Confusion Matrix',fontsize=16) \n",
        "ax.xaxis.set_ticklabels(labels) \n",
        "ax.yaxis.set_ticklabels(labels, rotation=360);"
      ],
      "execution_count": null,
      "outputs": [
        {
          "output_type": "stream",
          "text": [
            "K-means accuracy: 0.735\n",
            "Root Mean squared error 0.7172835948406506\n",
            "Mean absolute error 0.2647058823529412\n"
          ],
          "name": "stdout"
        },
        {
          "output_type": "display_data",
          "data": {
            "image/png": "[encoded data removed]",
            "text/plain": [
              "<Figure size 432x288 with 2 Axes>"
            ]
          },
          "metadata": {
            "tags": [],
            "needs_background": "light"
          }
        }
      ]
    },
    {
      "cell_type": "markdown",
      "metadata": {
        "id": "fyLURozB1b4S"
      },
      "source": [
        "#### Gaussian naive bayes"
      ]
    },
    {
      "cell_type": "code",
      "metadata": {
        "colab": {
          "base_uri": "https://localhost:8080/",
          "height": 353
        },
        "id": "SnC3QseAmMl4",
        "outputId": "848ce373-3e3f-402d-ab1e-a9aaac50b0ff"
      },
      "source": [
        "# performing Gaussian naive bayes\n",
        "nb_model = GaussianNB()\n",
        "\n",
        "nb_model.fit(train_scaled, y_train.iloc[:,1])\n",
        "\n",
        "nb_pred = nb_model.predict(test_scaled)\n",
        "\n",
        "print('Naive Bayes accuracy:', round(accuracy_score(y_test.iloc[:,1], nb_pred), 3))\n",
        "print('Root mean squared error',sqrt(mean_squared_error(y_test.iloc[:,1], nb_pred,squared=False)))\n",
        "print('Mean absolute error',mean_absolute_error(y_test.iloc[:,1], nb_pred))\n",
        "cm_nb =  confusion_matrix(y_test.iloc[:,1], nb_pred)\n",
        "\n",
        "ax = plt.subplot()\n",
        "sns.heatmap(cm_nb, annot=True, ax = ax, fmt='g', cmap='Reds') \n",
        "\n",
        "ax.set_xlabel('Predicted labels',fontsize=15)\n",
        "ax.set_ylabel('True labels',fontsize=15) \n",
        "ax.set_title('Naive Bayes Confusion Matrix',fontsize=15) \n",
        "ax.xaxis.set_ticklabels(labels) \n",
        "ax.yaxis.set_ticklabels(labels, rotation=360);"
      ],
      "execution_count": null,
      "outputs": [
        {
          "output_type": "stream",
          "text": [
            "Naive Bayes accuracy: 0.912\n",
            "Root mean squared error 0.5450176720923848\n",
            "Mean absolute error 0.08823529411764706\n"
          ],
          "name": "stdout"
        },
        {
          "output_type": "display_data",
          "data": {
            "image/png": "[encoded data removed]",
            "text/plain": [
              "<Figure size 432x288 with 2 Axes>"
            ]
          },
          "metadata": {
            "tags": [],
            "needs_background": "light"
          }
        }
      ]
    },
    {
      "cell_type": "markdown",
      "metadata": {
        "id": "XxIDjtce1eeM"
      },
      "source": [
        "#### Logistic Regression"
      ]
    },
    {
      "cell_type": "code",
      "metadata": {
        "colab": {
          "base_uri": "https://localhost:8080/",
          "height": 386
        },
        "id": "QrNa_ozhmm4L",
        "outputId": "fa5688f1-5161-4759-e8ce-2ae31234a6ad"
      },
      "source": [
        "# performing Logistic Regression with different complexity and penalty\n",
        "\n",
        "log_grid = {'C': [1e-05, 1e-3, 1e-1, 1, 10], \n",
        "                 'penalty': ['l1', 'l2']}\n",
        "\n",
        "log_estimator = LogisticRegression(solver='liblinear')\n",
        "\n",
        "log_model = GridSearchCV(estimator=log_estimator, \n",
        "                  param_grid=log_grid, \n",
        "                  cv=3,\n",
        "                  scoring='accuracy')\n",
        "\n",
        "log_model.fit(train_scaled, y_train.iloc[:,1])\n",
        "\n",
        "print(\"Best Parameters:\\n\", log_model.best_params_)\n",
        "\n",
        "best_log = log_model.best_estimator_\n",
        "\n",
        "log_pred = best_log.predict(test_scaled)\n",
        "\n",
        "print('Logistic Regression accuracy:', round(accuracy_score(y_test.iloc[:,1], log_pred), 3))\n",
        "print('Root mean squared error',sqrt(mean_squared_error(y_test.iloc[:,1], log_pred,squared=False)))\n",
        "print('Mean absolute error',mean_absolute_error(y_test.iloc[:,1], log_pred))\n",
        "cm_log =  confusion_matrix(y_test.iloc[:,1], log_pred)\n",
        "\n",
        "ax = plt.subplot()\n",
        "sns.heatmap(cm_log, annot=True, ax = ax, cmap='Reds') \n",
        "\n",
        "# labels, title and ticks\n",
        "ax.set_xlabel('Predicted labels',fontsize=15)\n",
        "ax.set_ylabel('True labels',fontsize=15) \n",
        "ax.set_title('Logistic Regression Confusion Matrix',fontsize=15) \n",
        "ax.xaxis.set_ticklabels(labels) \n",
        "ax.yaxis.set_ticklabels(labels, rotation=360);"
      ],
      "execution_count": null,
      "outputs": [
        {
          "output_type": "stream",
          "text": [
            "Best Parameters:\n",
            " {'C': 10, 'penalty': 'l1'}\n",
            "Logistic Regression accuracy: 0.941\n",
            "Root mean squared error 0.4924790605054523\n",
            "Mean absolute error 0.058823529411764705\n"
          ],
          "name": "stdout"
        },
        {
          "output_type": "display_data",
          "data": {
            "image/png": "[encoded data removed]",
            "text/plain": [
              "<Figure size 432x288 with 2 Axes>"
            ]
          },
          "metadata": {
            "tags": [],
            "needs_background": "light"
          }
        }
      ]
    },
    {
      "cell_type": "markdown",
      "metadata": {
        "id": "OBjHQUfh1hBR"
      },
      "source": [
        "#### Support Vector Machine"
      ]
    },
    {
      "cell_type": "code",
      "metadata": {
        "id": "QUWG1q9Im14o",
        "colab": {
          "base_uri": "https://localhost:8080/",
          "height": 386
        },
        "outputId": "dc786be2-0419-4ab9-fc21-8662aed4d425"
      },
      "source": [
        "# performing Support Vector Machine using different parameters\n",
        "svm_param_grid = {'C': [0.1, 0.3,1, 10, 100], 'gamma': [1, 0.1, 0.01, 0.001, 0.00001, 10], \"kernel\": [\"linear\", \"rbf\", \"poly\"]} \n",
        "\n",
        "# Create SVM grid search classifier\n",
        "svm_grid = GridSearchCV(SVC(), svm_param_grid, cv=3)\n",
        "\n",
        "# Train the classifier\n",
        "svm_grid.fit(train_scaled, y_train.iloc[:,1])\n",
        "\n",
        "print(\"Best Parameters:\\n\", svm_grid.best_params_)\n",
        "\n",
        "# Select best svc\n",
        "best_svc = svm_grid.best_estimator_\n",
        "\n",
        "svm_pred = best_svc.predict(test_scaled)\n",
        "\n",
        "print('SVM accuracy:', round(accuracy_score(y_test.iloc[:,1], svm_pred), 3))\n",
        "print('Root mean squared error',sqrt(mean_squared_error(y_test.iloc[:,1], svm_pred,squared=False)))\n",
        "print('Mean absolute error',mean_absolute_error(y_test.iloc[:,1], svm_pred))\n",
        "cm_svm =  confusion_matrix(y_test.iloc[:,1], svm_pred)\n",
        "\n",
        "ax = plt.subplot()\n",
        "sns.heatmap(cm_svm, annot=True, ax = ax, fmt='g', cmap='Reds') \n",
        "\n",
        "# Labels, title and ticks\n",
        "ax.set_xlabel('Predicted labels',fontsize=15)\n",
        "ax.set_ylabel('True labels',fontsize=15) \n",
        "ax.set_title('SVM Confusion Matrix',fontsize=15) \n",
        "ax.xaxis.set_ticklabels(labels) \n",
        "ax.yaxis.set_ticklabels(labels, rotation=360);"
      ],
      "execution_count": null,
      "outputs": [
        {
          "output_type": "stream",
          "text": [
            "Best Parameters:\n",
            " {'C': 0.1, 'gamma': 1, 'kernel': 'linear'}\n",
            "SVM accuracy: 0.912\n",
            "Root mean squared error 0.5450176720923848\n",
            "Mean absolute error 0.08823529411764706\n"
          ],
          "name": "stdout"
        },
        {
          "output_type": "display_data",
          "data": {
            "image/png": "[encoded data removed]",
            "text/plain": [
              "<Figure size 432x288 with 2 Axes>"
            ]
          },
          "metadata": {
            "tags": [],
            "needs_background": "light"
          }
        }
      ]
    },
    {
      "cell_type": "markdown",
      "metadata": {
        "id": "zqad8TqQ1k1z"
      },
      "source": [
        " #### Random Forest"
      ]
    },
    {
      "cell_type": "code",
      "metadata": {
        "colab": {
          "base_uri": "https://localhost:8080/",
          "height": 386
        },
        "id": "toHXXUKznF8G",
        "outputId": "4cd72886-125a-4ce4-e83e-dc64bb66dbf4"
      },
      "source": [
        "# performing Random Forest using different params\n",
        "\n",
        "# Hyperparameters search grid \n",
        "raf_param_grid = {\n",
        "         'n_estimators': [60, 70, 80, 90, 100],\n",
        "         'max_features': [0.6, 0.65, 0.7, 0.75, 0.8],\n",
        "         'min_samples_leaf': [8, 10, 12, 14],\n",
        "         'min_samples_split': [3, 5, 7]\n",
        "        }\n",
        "\n",
        "# Instantiate random forest classifier\n",
        "raf_estimator = RandomForestClassifier(random_state=0)\n",
        "\n",
        "raf_model = GridSearchCV(estimator=raf_estimator, param_grid=raf_param_grid, cv=3, scoring='accuracy')\n",
        "\n",
        "# Fine-tune the hyperparameters\n",
        "raf_model.fit(train_scaled, y_train.iloc[:,1])\n",
        "\n",
        "print(\"Best Parameters:\\n\", raf_model.best_params_)\n",
        "\n",
        "# Get the best model\n",
        "raf_model_best = raf_model.best_estimator_\n",
        "\n",
        "raf_pred = raf_model_best.predict(test_scaled)\n",
        "\n",
        "print('Random Forest accuracy:', round(accuracy_score(y_test.iloc[:,1], raf_pred), 3))\n",
        "print('Root mean squared error',sqrt(mean_squared_error(y_test.iloc[:,1], raf_pred,squared=False)))\n",
        "print('Mean absolute error',mean_absolute_error(y_test.iloc[:,1], raf_pred))\n",
        "cm_raf = confusion_matrix(y_test.iloc[:,1], raf_pred)\n",
        "\n",
        "ax = plt.subplot()\n",
        "sns.heatmap(cm_raf, annot=True, ax = ax, fmt='g', cmap='Reds') \n",
        "\n",
        "ax.set_xlabel('Predicted labels',fontsize=15)\n",
        "ax.set_ylabel('True labels',fontsize=15) \n",
        "ax.set_title('Random Forest Confusion Matrix',fontsize=15) \n",
        "ax.xaxis.set_ticklabels(labels) \n",
        "ax.yaxis.set_ticklabels(labels, rotation=360);"
      ],
      "execution_count": null,
      "outputs": [
        {
          "output_type": "stream",
          "text": [
            "Best Parameters:\n",
            " {'max_features': 0.8, 'min_samples_leaf': 8, 'min_samples_split': 3, 'n_estimators': 80}\n",
            "Random Forest accuracy: 0.853\n",
            "Root mean squared error 0.6192596340984008\n",
            "Mean absolute error 0.14705882352941177\n"
          ],
          "name": "stdout"
        },
        {
          "output_type": "display_data",
          "data": {
            "image/png": "[encoded data removed]",
            "text/plain": [
              "<Figure size 432x288 with 2 Axes>"
            ]
          },
          "metadata": {
            "tags": [],
            "needs_background": "light"
          }
        }
      ]
    },
    {
      "cell_type": "markdown",
      "metadata": {
        "id": "i-2tthzN1nuB"
      },
      "source": [
        "#### Neural network"
      ]
    },
    {
      "cell_type": "code",
      "metadata": {
        "id": "RsMLfQBEj2Dr"
      },
      "source": [
        "# performing  neural network using relu and sigmoid as activations\n",
        "NN_model = keras.Sequential([\n",
        "    layers.Dense(32, activation='relu'),\n",
        "    layers.Dense(16, activation='relu'),\n",
        "    layers.Dense(1, activation='sigmoid')\n",
        "])"
      ],
      "execution_count": null,
      "outputs": []
    },
    {
      "cell_type": "code",
      "metadata": {
        "id": "5NQzrAe_j-Ui"
      },
      "source": [
        "# using binary crossentropy loss and adam optimizer\n",
        "NN_model.compile(\n",
        "    loss='binary_crossentropy',\n",
        "    optimizer='adam',\n",
        "    metrics=['accuracy']\n",
        ")"
      ],
      "execution_count": null,
      "outputs": []
    },
    {
      "cell_type": "code",
      "metadata": {
        "id": "f3-Miz-GXf-v"
      },
      "source": [
        "partial_X_train = train_scaled[:30]\n",
        "X_val = train_scaled[30:]\n",
        "\n",
        "y_train_label = y_train.iloc[:,1]\n",
        "partial_y_train = y_train_label[:30]\n",
        "y_val = y_train_label[30:]"
      ],
      "execution_count": null,
      "outputs": []
    },
    {
      "cell_type": "code",
      "metadata": {
        "colab": {
          "base_uri": "https://localhost:8080/"
        },
        "id": "U8CgMpQ9kC1c",
        "outputId": "28610eee-b182-459a-edde-2913d19ef016"
      },
      "source": [
        "train_history = NN_model.fit(\n",
        "    partial_X_train, partial_y_train,\n",
        "    validation_data=(X_val, y_val),\n",
        "    batch_size = 16,\n",
        "    epochs = 50\n",
        ")"
      ],
      "execution_count": null,
      "outputs": [
        {
          "output_type": "stream",
          "text": [
            "Epoch 1/50\n",
            "2/2 [==============================] - 1s 523ms/step - loss: 0.5755 - accuracy: 0.5889 - val_loss: 0.3332 - val_accuracy: 0.8750\n",
            "Epoch 2/50\n",
            "2/2 [==============================] - 0s 43ms/step - loss: 0.0412 - accuracy: 1.0000 - val_loss: 0.3778 - val_accuracy: 0.8750\n",
            "Epoch 3/50\n",
            "2/2 [==============================] - 0s 43ms/step - loss: 0.0074 - accuracy: 1.0000 - val_loss: 0.4478 - val_accuracy: 0.8750\n",
            "Epoch 4/50\n",
            "2/2 [==============================] - 0s 39ms/step - loss: 0.0011 - accuracy: 1.0000 - val_loss: 0.5231 - val_accuracy: 0.8750\n",
            "Epoch 5/50\n",
            "2/2 [==============================] - 0s 46ms/step - loss: 3.7121e-04 - accuracy: 1.0000 - val_loss: 0.5907 - val_accuracy: 0.8750\n",
            "Epoch 6/50\n",
            "2/2 [==============================] - 0s 44ms/step - loss: 1.1719e-04 - accuracy: 1.0000 - val_loss: 0.6488 - val_accuracy: 0.8750\n",
            "Epoch 7/50\n",
            "2/2 [==============================] - 0s 52ms/step - loss: 6.8057e-05 - accuracy: 1.0000 - val_loss: 0.6981 - val_accuracy: 0.8750\n",
            "Epoch 8/50\n",
            "2/2 [==============================] - 0s 54ms/step - loss: 2.5032e-05 - accuracy: 1.0000 - val_loss: 0.7399 - val_accuracy: 0.8750\n",
            "Epoch 9/50\n",
            "2/2 [==============================] - 0s 48ms/step - loss: 1.5475e-05 - accuracy: 1.0000 - val_loss: 0.7751 - val_accuracy: 0.8750\n",
            "Epoch 10/50\n",
            "2/2 [==============================] - 0s 47ms/step - loss: 1.4443e-05 - accuracy: 1.0000 - val_loss: 0.8049 - val_accuracy: 0.8750\n",
            "Epoch 11/50\n",
            "2/2 [==============================] - 0s 45ms/step - loss: 8.3184e-06 - accuracy: 1.0000 - val_loss: 0.8299 - val_accuracy: 0.8750\n",
            "Epoch 12/50\n",
            "2/2 [==============================] - 0s 48ms/step - loss: 5.0546e-06 - accuracy: 1.0000 - val_loss: 0.8509 - val_accuracy: 0.8750\n",
            "Epoch 13/50\n",
            "2/2 [==============================] - 0s 49ms/step - loss: 4.2405e-06 - accuracy: 1.0000 - val_loss: 0.8685 - val_accuracy: 0.8750\n",
            "Epoch 14/50\n",
            "2/2 [==============================] - 0s 48ms/step - loss: 4.0072e-06 - accuracy: 1.0000 - val_loss: 0.8832 - val_accuracy: 0.8750\n",
            "Epoch 15/50\n",
            "2/2 [==============================] - 0s 41ms/step - loss: 3.5321e-06 - accuracy: 1.0000 - val_loss: 0.8955 - val_accuracy: 0.8750\n",
            "Epoch 16/50\n",
            "2/2 [==============================] - 0s 46ms/step - loss: 2.7246e-06 - accuracy: 1.0000 - val_loss: 0.9058 - val_accuracy: 0.8750\n",
            "Epoch 17/50\n",
            "2/2 [==============================] - 0s 49ms/step - loss: 2.1219e-06 - accuracy: 1.0000 - val_loss: 0.9143 - val_accuracy: 0.8750\n",
            "Epoch 18/50\n",
            "2/2 [==============================] - 0s 45ms/step - loss: 2.2843e-06 - accuracy: 1.0000 - val_loss: 0.9214 - val_accuracy: 0.8750\n",
            "Epoch 19/50\n",
            "2/2 [==============================] - 0s 46ms/step - loss: 2.6078e-06 - accuracy: 1.0000 - val_loss: 0.9273 - val_accuracy: 0.8750\n",
            "Epoch 20/50\n",
            "2/2 [==============================] - 0s 51ms/step - loss: 2.1777e-06 - accuracy: 1.0000 - val_loss: 0.9322 - val_accuracy: 0.8750\n",
            "Epoch 21/50\n",
            "2/2 [==============================] - 0s 42ms/step - loss: 2.3186e-06 - accuracy: 1.0000 - val_loss: 0.9363 - val_accuracy: 0.8750\n",
            "Epoch 22/50\n",
            "2/2 [==============================] - 0s 43ms/step - loss: 1.9934e-06 - accuracy: 1.0000 - val_loss: 0.9397 - val_accuracy: 0.8750\n",
            "Epoch 23/50\n",
            "2/2 [==============================] - 0s 40ms/step - loss: 1.9038e-06 - accuracy: 1.0000 - val_loss: 0.9425 - val_accuracy: 0.8750\n",
            "Epoch 24/50\n",
            "2/2 [==============================] - 0s 41ms/step - loss: 1.6087e-06 - accuracy: 1.0000 - val_loss: 0.9448 - val_accuracy: 0.8750\n",
            "Epoch 25/50\n",
            "2/2 [==============================] - 0s 44ms/step - loss: 1.7995e-06 - accuracy: 1.0000 - val_loss: 0.9467 - val_accuracy: 0.8750\n",
            "Epoch 26/50\n",
            "2/2 [==============================] - 0s 46ms/step - loss: 2.0517e-06 - accuracy: 1.0000 - val_loss: 0.9482 - val_accuracy: 0.8750\n",
            "Epoch 27/50\n",
            "2/2 [==============================] - 0s 43ms/step - loss: 1.6456e-06 - accuracy: 1.0000 - val_loss: 0.9495 - val_accuracy: 0.8750\n",
            "Epoch 28/50\n",
            "2/2 [==============================] - 0s 46ms/step - loss: 1.5813e-06 - accuracy: 1.0000 - val_loss: 0.9506 - val_accuracy: 0.8750\n",
            "Epoch 29/50\n",
            "2/2 [==============================] - 0s 45ms/step - loss: 1.6274e-06 - accuracy: 1.0000 - val_loss: 0.9515 - val_accuracy: 0.8750\n",
            "Epoch 30/50\n",
            "2/2 [==============================] - 0s 45ms/step - loss: 1.7976e-06 - accuracy: 1.0000 - val_loss: 0.9522 - val_accuracy: 0.8750\n",
            "Epoch 31/50\n",
            "2/2 [==============================] - 0s 44ms/step - loss: 1.5675e-06 - accuracy: 1.0000 - val_loss: 0.9528 - val_accuracy: 0.8750\n",
            "Epoch 32/50\n",
            "2/2 [==============================] - 0s 47ms/step - loss: 1.2104e-06 - accuracy: 1.0000 - val_loss: 0.9532 - val_accuracy: 0.8750\n",
            "Epoch 33/50\n",
            "2/2 [==============================] - 0s 44ms/step - loss: 1.7142e-06 - accuracy: 1.0000 - val_loss: 0.9536 - val_accuracy: 0.8750\n",
            "Epoch 34/50\n",
            "2/2 [==============================] - 0s 41ms/step - loss: 1.2016e-06 - accuracy: 1.0000 - val_loss: 0.9539 - val_accuracy: 0.8750\n",
            "Epoch 35/50\n",
            "2/2 [==============================] - 0s 42ms/step - loss: 1.1938e-06 - accuracy: 1.0000 - val_loss: 0.9542 - val_accuracy: 0.8750\n",
            "Epoch 36/50\n",
            "2/2 [==============================] - 0s 50ms/step - loss: 1.8638e-06 - accuracy: 1.0000 - val_loss: 0.9544 - val_accuracy: 0.8750\n",
            "Epoch 37/50\n",
            "2/2 [==============================] - 0s 45ms/step - loss: 1.8405e-06 - accuracy: 1.0000 - val_loss: 0.9546 - val_accuracy: 0.8750\n",
            "Epoch 38/50\n",
            "2/2 [==============================] - 0s 43ms/step - loss: 1.5864e-06 - accuracy: 1.0000 - val_loss: 0.9547 - val_accuracy: 0.8750\n",
            "Epoch 39/50\n",
            "2/2 [==============================] - 0s 48ms/step - loss: 1.6251e-06 - accuracy: 1.0000 - val_loss: 0.9548 - val_accuracy: 0.8750\n",
            "Epoch 40/50\n",
            "2/2 [==============================] - 0s 54ms/step - loss: 1.4995e-06 - accuracy: 1.0000 - val_loss: 0.9549 - val_accuracy: 0.8750\n",
            "Epoch 41/50\n",
            "2/2 [==============================] - 0s 57ms/step - loss: 1.1804e-06 - accuracy: 1.0000 - val_loss: 0.9550 - val_accuracy: 0.8750\n",
            "Epoch 42/50\n",
            "2/2 [==============================] - 0s 44ms/step - loss: 1.4313e-06 - accuracy: 1.0000 - val_loss: 0.9550 - val_accuracy: 0.8750\n",
            "Epoch 43/50\n",
            "2/2 [==============================] - 0s 52ms/step - loss: 1.4415e-06 - accuracy: 1.0000 - val_loss: 0.9551 - val_accuracy: 0.8750\n",
            "Epoch 44/50\n",
            "2/2 [==============================] - 0s 59ms/step - loss: 1.6334e-06 - accuracy: 1.0000 - val_loss: 0.9551 - val_accuracy: 0.8750\n",
            "Epoch 45/50\n",
            "2/2 [==============================] - 0s 47ms/step - loss: 1.6273e-06 - accuracy: 1.0000 - val_loss: 0.9551 - val_accuracy: 0.8750\n",
            "Epoch 46/50\n",
            "2/2 [==============================] - 0s 39ms/step - loss: 1.5542e-06 - accuracy: 1.0000 - val_loss: 0.9551 - val_accuracy: 0.8750\n",
            "Epoch 47/50\n",
            "2/2 [==============================] - 0s 45ms/step - loss: 1.6751e-06 - accuracy: 1.0000 - val_loss: 0.9551 - val_accuracy: 0.8750\n",
            "Epoch 48/50\n",
            "2/2 [==============================] - 0s 50ms/step - loss: 1.2868e-06 - accuracy: 1.0000 - val_loss: 0.9551 - val_accuracy: 0.8750\n",
            "Epoch 49/50\n",
            "2/2 [==============================] - 0s 50ms/step - loss: 1.9499e-06 - accuracy: 1.0000 - val_loss: 0.9551 - val_accuracy: 0.8750\n",
            "Epoch 50/50\n",
            "2/2 [==============================] - 0s 45ms/step - loss: 1.6081e-06 - accuracy: 1.0000 - val_loss: 0.9551 - val_accuracy: 0.8750\n"
          ],
          "name": "stdout"
        }
      ]
    },
    {
      "cell_type": "code",
      "metadata": {
        "id": "IXWHJroNkHpe",
        "colab": {
          "base_uri": "https://localhost:8080/",
          "height": 353
        },
        "outputId": "969c5a3b-7820-4b3f-dc9c-40e1731a2301"
      },
      "source": [
        "pred = NN_model.predict_classes(test_scaled)\n",
        "print('Neural Network accuracy: ', round(accuracy_score(y_test.iloc[:,1], pred), 3))\n",
        "print('Root mean squared error',sqrt(mean_squared_error(y_test.iloc[:,1], pred,squared=False)))\n",
        "print('mean absolute error',mean_absolute_error(y_test.iloc[:,1], pred))\n",
        "cm_nn = confusion_matrix(y_test.iloc[:,1], pred)\n",
        "\n",
        "ax = plt.subplot()\n",
        "sns.heatmap(cm_nn, annot=True, ax = ax, fmt='g', cmap='Reds') \n",
        "\n",
        "# Labels, title and ticks\n",
        "ax.set_xlabel('Predicted labels',fontsize=15)\n",
        "ax.set_ylabel('True labels',fontsize=15) \n",
        "ax.set_title('Neural Network Confusion Matrix',fontsize=15) \n",
        "ax.xaxis.set_ticklabels(labels) \n",
        "ax.yaxis.set_ticklabels(labels, rotation=360);"
      ],
      "execution_count": null,
      "outputs": [
        {
          "output_type": "stream",
          "text": [
            "Neural Network accuracy:  0.794\n",
            "Root mean squared error 0.6736041912625804\n",
            "mean absolute error 0.20588235294117646\n"
          ],
          "name": "stdout"
        },
        {
          "output_type": "display_data",
          "data": {
            "image/png": "[encoded data removed]",
            "text/plain": [
              "<Figure size 432x288 with 2 Axes>"
            ]
          },
          "metadata": {
            "tags": [],
            "needs_background": "light"
          }
        }
      ]
    }
  ]
}